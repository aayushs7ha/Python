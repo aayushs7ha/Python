{
  "nbformat": 4,
  "nbformat_minor": 0,
  "metadata": {
    "colab": {
      "provenance": [],
      "authorship_tag": "ABX9TyMWj2MU5nP0KsesHGpH4dQm",
      "include_colab_link": true
    },
    "kernelspec": {
      "name": "python3",
      "display_name": "Python 3"
    },
    "language_info": {
      "name": "python"
    }
  },
  "cells": [
    {
      "cell_type": "markdown",
      "metadata": {
        "id": "view-in-github",
        "colab_type": "text"
      },
      "source": [
        "<a href=\"https://colab.research.google.com/github/aayushs7ha/Python/blob/main/List.ipynb\" target=\"_parent\"><img src=\"https://colab.research.google.com/assets/colab-badge.svg\" alt=\"Open In Colab\"/></a>"
      ]
    },
    {
      "cell_type": "markdown",
      "source": [
        "Some important things to remeber about Python List :\n",
        "- Indexing : Lists are 0 Indexed, 1st Element is 0 ,2nd is 1\n",
        "- Mutable : Elements of a lists can be modified. By indexing you can change a value of an element\n",
        "- Heterogeneous elements - Lists can contain elements of different types\n",
        "- Length - You can find the the length of list using len () method\n",
        "- Slicing - Allows to extract a portion of list by specifying start and end indices. Start is inclusive, end is exclusive\n",
        "- Methods - A lot of built in functions append(),remove(),pop()\n",
        "- List comprehension - precise way of creating new list based on existing lists\n",
        "- Aliasing and copying - To create an independent copy of a list, you can use the copy() method or the slicing technique list2 = list1[:]\n",
        "- Iteration - Lists are Iterable using for and while loops. Allows to squentially access each element\n",
        "- Comparision and membership - you can compare list for equality using the '==' operator, which checls elements in both lists are same.\n",
        "  additionally you can check if an element is present in the list using the 'in' keyword"
      ],
      "metadata": {
        "id": "h3OfzMRHhGhU"
      }
    },
    {
      "cell_type": "code",
      "source": [
        "# add elements of a list\n",
        "def add_list_elements(numbers):\n",
        "  sum = 0\n",
        "  for num in numbers:\n",
        "    sum += num\n",
        "  return sum"
      ],
      "metadata": {
        "id": "_Qfb2Rhmhxiw"
      },
      "execution_count": 3,
      "outputs": []
    },
    {
      "cell_type": "code",
      "source": [
        "a = [1,2,3]\n",
        "\n",
        "add_list_elements(a)"
      ],
      "metadata": {
        "colab": {
          "base_uri": "https://localhost:8080/"
        },
        "id": "1gEu-yRjiJSl",
        "outputId": "3502c0b0-abfe-494a-dd52-85a72eb068bb"
      },
      "execution_count": 4,
      "outputs": [
        {
          "output_type": "execute_result",
          "data": {
            "text/plain": [
              "6"
            ]
          },
          "metadata": {},
          "execution_count": 4
        }
      ]
    },
    {
      "cell_type": "code",
      "source": [
        "# reverse a list\n",
        "\n",
        "def rev_a_list(lst):\n",
        "  reversed_list = lst [::-1]\n",
        "  return reversed_list\n",
        "\n",
        "b = [1,2,3,\"aayush\"]\n",
        "print(\"reversed list\",rev_a_list(b))"
      ],
      "metadata": {
        "colab": {
          "base_uri": "https://localhost:8080/"
        },
        "id": "3VxVPJStiP5a",
        "outputId": "da752718-c438-42d2-d226-c1ba8d42c87e"
      },
      "execution_count": 8,
      "outputs": [
        {
          "output_type": "stream",
          "name": "stdout",
          "text": [
            "reversed list ['aayush', 3, 2, 1]\n"
          ]
        }
      ]
    },
    {
      "cell_type": "code",
      "source": [
        "# Find Maximum and Minimum of a list\n",
        "\n",
        "def findMinMax(lst):\n",
        "  for i in lst:\n",
        "    max_value = max(lst)\n",
        "    min_value = min(lst)\n",
        "  return max_value, min_value\n",
        "\n",
        "\n",
        "c = [1,2,3,4,5,6,7]\n",
        "findMinMax(c)"
      ],
      "metadata": {
        "colab": {
          "base_uri": "https://localhost:8080/"
        },
        "id": "vUMv1Vfrj-mq",
        "outputId": "8fefe681-6ed7-4e33-a61e-05b7313b321b"
      },
      "execution_count": 10,
      "outputs": [
        {
          "output_type": "execute_result",
          "data": {
            "text/plain": [
              "(7, 1)"
            ]
          },
          "metadata": {},
          "execution_count": 10
        }
      ]
    },
    {
      "cell_type": "code",
      "source": [
        "def MinMax(lst):\n",
        "  if len(lst) == 0:\n",
        "    return None, None\n",
        "  min_value = lst[0]\n",
        "  max_value = lst[0]\n",
        "\n",
        "  for num in lst:\n",
        "    if num < min_value:\n",
        "      min_value = num\n",
        "    if num > max_value:\n",
        "      max_value = num\n",
        "  return min_value, max_value"
      ],
      "metadata": {
        "id": "irvAlZM_k048"
      },
      "execution_count": 11,
      "outputs": []
    },
    {
      "cell_type": "code",
      "source": [
        "d = [7,8,9,10,11,12,13,14]\n",
        "MinMax(d)"
      ],
      "metadata": {
        "colab": {
          "base_uri": "https://localhost:8080/"
        },
        "id": "9wOMPqwbnD-y",
        "outputId": "6eb3c607-69fb-4089-a9d8-042cae6d35ec"
      },
      "execution_count": 12,
      "outputs": [
        {
          "output_type": "execute_result",
          "data": {
            "text/plain": [
              "(7, 14)"
            ]
          },
          "metadata": {},
          "execution_count": 12
        }
      ]
    },
    {
      "cell_type": "code",
      "source": [
        "# Remove Duplicates from a list\n"
      ],
      "metadata": {
        "id": "BX6wlznknLmr"
      },
      "execution_count": null,
      "outputs": []
    }
  ]
}