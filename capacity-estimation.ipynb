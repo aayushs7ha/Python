{
 "cells": [
  {
   "cell_type": "code",
   "execution_count": 1,
   "id": "90cb4ab9",
   "metadata": {
    "_cell_guid": "b1076dfc-b9ad-4769-8c92-a6c4dae69d19",
    "_uuid": "8f2839f25d086af736a60e9eeb907d3b93b6e0e5",
    "execution": {
     "iopub.execute_input": "2023-09-05T12:23:29.045115Z",
     "iopub.status.busy": "2023-09-05T12:23:29.044701Z",
     "iopub.status.idle": "2023-09-05T12:23:29.478647Z",
     "shell.execute_reply": "2023-09-05T12:23:29.477531Z"
    },
    "papermill": {
     "duration": 0.446083,
     "end_time": "2023-09-05T12:23:29.481420",
     "exception": false,
     "start_time": "2023-09-05T12:23:29.035337",
     "status": "completed"
    },
    "tags": []
   },
   "outputs": [
    {
     "name": "stdout",
     "output_type": "stream",
     "text": [
      "/kaggle/input/capacity/chassis.csv\n",
      "/kaggle/input/capacity/workshops.csv\n",
      "/kaggle/input/district/District to SSO master.csv\n",
      "/kaggle/input/january/January.parquet\n",
      "/kaggle/input/telemetry/telemetry_event_tml_data.csv\n",
      "/kaggle/input/additional/District to SSO master.xlsx\n",
      "/kaggle/input/additional/WS location details.xlsx\n",
      "/kaggle/input/network-expansion/February.parquet\n",
      "/kaggle/input/network-expansion/all_region_workshops.csv\n"
     ]
    }
   ],
   "source": [
    "# This Python 3 environment comes with many helpful analytics libraries installed\n",
    "# It is defined by the kaggle/python Docker image: https://github.com/kaggle/docker-python\n",
    "# For example, here's several helpful packages to load\n",
    "\n",
    "import numpy as np # linear algebra\n",
    "import pandas as pd # data processing, CSV file I/O (e.g. pd.read_csv)\n",
    "\n",
    "# Input data files are available in the read-only \"../input/\" directory\n",
    "# For example, running this (by clicking run or pressing Shift+Enter) will list all files under the input directory\n",
    "\n",
    "import os\n",
    "for dirname, _, filenames in os.walk('/kaggle/input'):\n",
    "    for filename in filenames:\n",
    "        print(os.path.join(dirname, filename))\n",
    "\n",
    "# You can write up to 20GB to the current directory (/kaggle/working/) that gets preserved as output when you create a version using \"Save & Run All\" \n",
    "# You can also write temporary files to /kaggle/temp/, but they won't be saved outside of the current session"
   ]
  },
  {
   "cell_type": "code",
   "execution_count": 2,
   "id": "23d0f867",
   "metadata": {
    "execution": {
     "iopub.execute_input": "2023-09-05T12:23:29.496729Z",
     "iopub.status.busy": "2023-09-05T12:23:29.496266Z",
     "iopub.status.idle": "2023-09-05T12:23:29.568124Z",
     "shell.execute_reply": "2023-09-05T12:23:29.567260Z"
    },
    "papermill": {
     "duration": 0.082221,
     "end_time": "2023-09-05T12:23:29.570565",
     "exception": false,
     "start_time": "2023-09-05T12:23:29.488344",
     "status": "completed"
    },
    "tags": []
   },
   "outputs": [],
   "source": [
    "del_cha = pd.read_csv(\"/kaggle/input/capacity/chassis.csv\")"
   ]
  },
  {
   "cell_type": "code",
   "execution_count": 3,
   "id": "bce6d789",
   "metadata": {
    "execution": {
     "iopub.execute_input": "2023-09-05T12:23:29.585605Z",
     "iopub.status.busy": "2023-09-05T12:23:29.584948Z",
     "iopub.status.idle": "2023-09-05T12:23:29.594616Z",
     "shell.execute_reply": "2023-09-05T12:23:29.593864Z"
    },
    "papermill": {
     "duration": 0.019442,
     "end_time": "2023-09-05T12:23:29.596750",
     "exception": false,
     "start_time": "2023-09-05T12:23:29.577308",
     "status": "completed"
    },
    "tags": []
   },
   "outputs": [],
   "source": [
    "workshop = pd.read_csv(\"/kaggle/input/capacity/workshops.csv\")"
   ]
  },
  {
   "cell_type": "code",
   "execution_count": 4,
   "id": "4bc7b169",
   "metadata": {
    "execution": {
     "iopub.execute_input": "2023-09-05T12:23:29.611564Z",
     "iopub.status.busy": "2023-09-05T12:23:29.611023Z",
     "iopub.status.idle": "2023-09-05T12:23:29.633609Z",
     "shell.execute_reply": "2023-09-05T12:23:29.632606Z"
    },
    "papermill": {
     "duration": 0.03309,
     "end_time": "2023-09-05T12:23:29.636405",
     "exception": false,
     "start_time": "2023-09-05T12:23:29.603315",
     "status": "completed"
    },
    "tags": []
   },
   "outputs": [
    {
     "data": {
      "text/html": [
       "<div>\n",
       "<style scoped>\n",
       "    .dataframe tbody tr th:only-of-type {\n",
       "        vertical-align: middle;\n",
       "    }\n",
       "\n",
       "    .dataframe tbody tr th {\n",
       "        vertical-align: top;\n",
       "    }\n",
       "\n",
       "    .dataframe thead th {\n",
       "        text-align: right;\n",
       "    }\n",
       "</style>\n",
       "<table border=\"1\" class=\"dataframe\">\n",
       "  <thead>\n",
       "    <tr style=\"text-align: right;\">\n",
       "      <th></th>\n",
       "      <th>Unnamed: 0</th>\n",
       "      <th>District</th>\n",
       "      <th>Lat</th>\n",
       "      <th>Long</th>\n",
       "      <th>count</th>\n",
       "      <th>SSO</th>\n",
       "      <th>State</th>\n",
       "    </tr>\n",
       "  </thead>\n",
       "  <tbody>\n",
       "    <tr>\n",
       "      <th>0</th>\n",
       "      <td>0</td>\n",
       "      <td>Kanpur Nagar</td>\n",
       "      <td>26.450001</td>\n",
       "      <td>80.239998</td>\n",
       "      <td>193</td>\n",
       "      <td>Lucknow</td>\n",
       "      <td>Uttar Pradesh</td>\n",
       "    </tr>\n",
       "    <tr>\n",
       "      <th>1</th>\n",
       "      <td>1</td>\n",
       "      <td>Bulandshahr</td>\n",
       "      <td>28.469999</td>\n",
       "      <td>77.669998</td>\n",
       "      <td>379</td>\n",
       "      <td>Delhi</td>\n",
       "      <td>Uttar Pradesh</td>\n",
       "    </tr>\n",
       "    <tr>\n",
       "      <th>2</th>\n",
       "      <td>2</td>\n",
       "      <td>Kannauj</td>\n",
       "      <td>26.889999</td>\n",
       "      <td>79.910004</td>\n",
       "      <td>12</td>\n",
       "      <td>Lucknow</td>\n",
       "      <td>Uttar Pradesh</td>\n",
       "    </tr>\n",
       "    <tr>\n",
       "      <th>3</th>\n",
       "      <td>3</td>\n",
       "      <td>Unnao</td>\n",
       "      <td>26.620001</td>\n",
       "      <td>80.699997</td>\n",
       "      <td>1130</td>\n",
       "      <td>Lucknow</td>\n",
       "      <td>Uttar Pradesh</td>\n",
       "    </tr>\n",
       "  </tbody>\n",
       "</table>\n",
       "</div>"
      ],
      "text/plain": [
       "   Unnamed: 0      District        Lat       Long  count      SSO  \\\n",
       "0           0  Kanpur Nagar  26.450001  80.239998    193  Lucknow   \n",
       "1           1   Bulandshahr  28.469999  77.669998    379    Delhi   \n",
       "2           2       Kannauj  26.889999  79.910004     12  Lucknow   \n",
       "3           3         Unnao  26.620001  80.699997   1130  Lucknow   \n",
       "\n",
       "           State  \n",
       "0  Uttar Pradesh  \n",
       "1  Uttar Pradesh  \n",
       "2  Uttar Pradesh  \n",
       "3  Uttar Pradesh  "
      ]
     },
     "execution_count": 4,
     "metadata": {},
     "output_type": "execute_result"
    }
   ],
   "source": [
    "del_cha.head(4)"
   ]
  },
  {
   "cell_type": "code",
   "execution_count": 5,
   "id": "a1da1e57",
   "metadata": {
    "execution": {
     "iopub.execute_input": "2023-09-05T12:23:29.651671Z",
     "iopub.status.busy": "2023-09-05T12:23:29.651037Z",
     "iopub.status.idle": "2023-09-05T12:23:29.667415Z",
     "shell.execute_reply": "2023-09-05T12:23:29.666436Z"
    },
    "papermill": {
     "duration": 0.026835,
     "end_time": "2023-09-05T12:23:29.669941",
     "exception": false,
     "start_time": "2023-09-05T12:23:29.643106",
     "status": "completed"
    },
    "tags": []
   },
   "outputs": [],
   "source": [
    "del_cha.drop(columns='Unnamed: 0',axis=1,inplace =True)"
   ]
  },
  {
   "cell_type": "code",
   "execution_count": 6,
   "id": "672129dd",
   "metadata": {
    "execution": {
     "iopub.execute_input": "2023-09-05T12:23:29.685104Z",
     "iopub.status.busy": "2023-09-05T12:23:29.684726Z",
     "iopub.status.idle": "2023-09-05T12:23:29.692199Z",
     "shell.execute_reply": "2023-09-05T12:23:29.691393Z"
    },
    "papermill": {
     "duration": 0.017457,
     "end_time": "2023-09-05T12:23:29.694236",
     "exception": false,
     "start_time": "2023-09-05T12:23:29.676779",
     "status": "completed"
    },
    "tags": []
   },
   "outputs": [],
   "source": [
    "workshop.drop(columns='Unnamed: 0',axis=1,inplace =True)"
   ]
  },
  {
   "cell_type": "code",
   "execution_count": 7,
   "id": "1d6b05ae",
   "metadata": {
    "execution": {
     "iopub.execute_input": "2023-09-05T12:23:29.709734Z",
     "iopub.status.busy": "2023-09-05T12:23:29.708833Z",
     "iopub.status.idle": "2023-09-05T12:23:29.722038Z",
     "shell.execute_reply": "2023-09-05T12:23:29.721040Z"
    },
    "papermill": {
     "duration": 0.023193,
     "end_time": "2023-09-05T12:23:29.724152",
     "exception": false,
     "start_time": "2023-09-05T12:23:29.700959",
     "status": "completed"
    },
    "tags": []
   },
   "outputs": [
    {
     "data": {
      "text/html": [
       "<div>\n",
       "<style scoped>\n",
       "    .dataframe tbody tr th:only-of-type {\n",
       "        vertical-align: middle;\n",
       "    }\n",
       "\n",
       "    .dataframe tbody tr th {\n",
       "        vertical-align: top;\n",
       "    }\n",
       "\n",
       "    .dataframe thead th {\n",
       "        text-align: right;\n",
       "    }\n",
       "</style>\n",
       "<table border=\"1\" class=\"dataframe\">\n",
       "  <thead>\n",
       "    <tr style=\"text-align: right;\">\n",
       "      <th></th>\n",
       "      <th>District</th>\n",
       "      <th>Lat</th>\n",
       "      <th>Long</th>\n",
       "      <th>count</th>\n",
       "      <th>SSO</th>\n",
       "      <th>State</th>\n",
       "    </tr>\n",
       "  </thead>\n",
       "  <tbody>\n",
       "    <tr>\n",
       "      <th>0</th>\n",
       "      <td>Kanpur Nagar</td>\n",
       "      <td>26.450001</td>\n",
       "      <td>80.239998</td>\n",
       "      <td>193</td>\n",
       "      <td>Lucknow</td>\n",
       "      <td>Uttar Pradesh</td>\n",
       "    </tr>\n",
       "    <tr>\n",
       "      <th>1</th>\n",
       "      <td>Bulandshahr</td>\n",
       "      <td>28.469999</td>\n",
       "      <td>77.669998</td>\n",
       "      <td>379</td>\n",
       "      <td>Delhi</td>\n",
       "      <td>Uttar Pradesh</td>\n",
       "    </tr>\n",
       "    <tr>\n",
       "      <th>2</th>\n",
       "      <td>Kannauj</td>\n",
       "      <td>26.889999</td>\n",
       "      <td>79.910004</td>\n",
       "      <td>12</td>\n",
       "      <td>Lucknow</td>\n",
       "      <td>Uttar Pradesh</td>\n",
       "    </tr>\n",
       "  </tbody>\n",
       "</table>\n",
       "</div>"
      ],
      "text/plain": [
       "       District        Lat       Long  count      SSO          State\n",
       "0  Kanpur Nagar  26.450001  80.239998    193  Lucknow  Uttar Pradesh\n",
       "1   Bulandshahr  28.469999  77.669998    379    Delhi  Uttar Pradesh\n",
       "2       Kannauj  26.889999  79.910004     12  Lucknow  Uttar Pradesh"
      ]
     },
     "execution_count": 7,
     "metadata": {},
     "output_type": "execute_result"
    }
   ],
   "source": [
    "del_cha.head(3)\n"
   ]
  },
  {
   "cell_type": "code",
   "execution_count": 8,
   "id": "21fc6ca2",
   "metadata": {
    "execution": {
     "iopub.execute_input": "2023-09-05T12:23:29.739825Z",
     "iopub.status.busy": "2023-09-05T12:23:29.739157Z",
     "iopub.status.idle": "2023-09-05T12:23:29.751069Z",
     "shell.execute_reply": "2023-09-05T12:23:29.750047Z"
    },
    "papermill": {
     "duration": 0.022004,
     "end_time": "2023-09-05T12:23:29.753251",
     "exception": false,
     "start_time": "2023-09-05T12:23:29.731247",
     "status": "completed"
    },
    "tags": []
   },
   "outputs": [
    {
     "data": {
      "text/html": [
       "<div>\n",
       "<style scoped>\n",
       "    .dataframe tbody tr th:only-of-type {\n",
       "        vertical-align: middle;\n",
       "    }\n",
       "\n",
       "    .dataframe tbody tr th {\n",
       "        vertical-align: top;\n",
       "    }\n",
       "\n",
       "    .dataframe thead th {\n",
       "        text-align: right;\n",
       "    }\n",
       "</style>\n",
       "<table border=\"1\" class=\"dataframe\">\n",
       "  <thead>\n",
       "    <tr style=\"text-align: right;\">\n",
       "      <th></th>\n",
       "      <th>Division</th>\n",
       "      <th>Lattitude</th>\n",
       "      <th>Longitude</th>\n",
       "      <th>SSO</th>\n",
       "      <th>State</th>\n",
       "    </tr>\n",
       "  </thead>\n",
       "  <tbody>\n",
       "    <tr>\n",
       "      <th>0</th>\n",
       "      <td>2088963-Sv&amp;Pa-Lalitpur-GvxMot</td>\n",
       "      <td>24.731576</td>\n",
       "      <td>78.431855</td>\n",
       "      <td>Lucknow</td>\n",
       "      <td>Uttar Pradesh</td>\n",
       "    </tr>\n",
       "    <tr>\n",
       "      <th>1</th>\n",
       "      <td>2088398-Sv&amp;Pa-Chitrakoot-ShyCar</td>\n",
       "      <td>25.213378</td>\n",
       "      <td>80.909587</td>\n",
       "      <td>Lucknow</td>\n",
       "      <td>Uttar Pradesh</td>\n",
       "    </tr>\n",
       "    <tr>\n",
       "      <th>2</th>\n",
       "      <td>2088398-Sv&amp;Pa-Chitrakoot-ShyCar</td>\n",
       "      <td>25.213378</td>\n",
       "      <td>80.909587</td>\n",
       "      <td>Lucknow</td>\n",
       "      <td>Uttar Pradesh</td>\n",
       "    </tr>\n",
       "  </tbody>\n",
       "</table>\n",
       "</div>"
      ],
      "text/plain": [
       "                          Division  Lattitude  Longitude      SSO  \\\n",
       "0    2088963-Sv&Pa-Lalitpur-GvxMot  24.731576  78.431855  Lucknow   \n",
       "1  2088398-Sv&Pa-Chitrakoot-ShyCar  25.213378  80.909587  Lucknow   \n",
       "2  2088398-Sv&Pa-Chitrakoot-ShyCar  25.213378  80.909587  Lucknow   \n",
       "\n",
       "           State  \n",
       "0  Uttar Pradesh  \n",
       "1  Uttar Pradesh  \n",
       "2  Uttar Pradesh  "
      ]
     },
     "execution_count": 8,
     "metadata": {},
     "output_type": "execute_result"
    }
   ],
   "source": [
    "workshop.head(3)"
   ]
  },
  {
   "cell_type": "code",
   "execution_count": 9,
   "id": "47c347cf",
   "metadata": {
    "execution": {
     "iopub.execute_input": "2023-09-05T12:23:29.769354Z",
     "iopub.status.busy": "2023-09-05T12:23:29.768961Z",
     "iopub.status.idle": "2023-09-05T12:23:29.777354Z",
     "shell.execute_reply": "2023-09-05T12:23:29.776268Z"
    },
    "papermill": {
     "duration": 0.019047,
     "end_time": "2023-09-05T12:23:29.779438",
     "exception": false,
     "start_time": "2023-09-05T12:23:29.760391",
     "status": "completed"
    },
    "tags": []
   },
   "outputs": [],
   "source": [
    "def haversine(lonlat1, lonlat2):\n",
    "     \"\"\"\n",
    "     Calculate the great circle distance between two points\n",
    "     on the earth (specified in decimal degrees)\n",
    "     \"\"\"\n",
    "     # convert decimal degrees to radians\n",
    "     lat1, lon1 = lonlat1\n",
    "     lat2, lon2 = lonlat2\n",
    "     lon1, lat1, lon2, lat2 = map(radians, [lon1, lat1, lon2, lat2])\n",
    "\n",
    "     #haversine formula\n",
    "     dlon = lon2 - lon1\n",
    "     dlat = lat2 - lat1\n",
    "     a = sin(dlat / 2) ** 2 + cos(lat1) * cos(lat2) * sin(dlon / 2) ** 2\n",
    "     c = 2 * asin(sqrt(a))\n",
    "     r = 6371  # Radius of earth in kilometers. Use 3956 for miles\n",
    "     return c * r"
   ]
  },
  {
   "cell_type": "code",
   "execution_count": 10,
   "id": "f0e710e4",
   "metadata": {
    "execution": {
     "iopub.execute_input": "2023-09-05T12:23:29.796110Z",
     "iopub.status.busy": "2023-09-05T12:23:29.795660Z",
     "iopub.status.idle": "2023-09-05T12:23:34.850692Z",
     "shell.execute_reply": "2023-09-05T12:23:34.849730Z"
    },
    "papermill": {
     "duration": 5.066612,
     "end_time": "2023-09-05T12:23:34.853499",
     "exception": false,
     "start_time": "2023-09-05T12:23:29.786887",
     "status": "completed"
    },
    "tags": []
   },
   "outputs": [],
   "source": [
    "import pandas as pd\n",
    "from openpyxl import load_workbook\n",
    "from math import radians, cos, sin, asin, sqrt\n",
    "from tqdm import tqdm\n",
    "from math import ceil\n",
    "import numpy as np\n",
    "import folium\n",
    "import warnings\n",
    "import plotly.graph_objects as go\n",
    "import plotly.express as px\n",
    "import matplotlib.pyplot as plt\n",
    "from scipy import stats as st\n",
    "from sklearn.cluster import KMeans\n",
    "from statistics import mode\n",
    "from geopy.geocoders import Nominatim\n",
    "from sklearn.cluster import DBSCAN\n",
    "from haversine import haversine\n",
    "from haversine import Unit\n",
    "\n",
    "warnings.filterwarnings('ignore')\n",
    "geolocator = Nominatim(user_agent=\"geoapiExercises\")"
   ]
  },
  {
   "cell_type": "code",
   "execution_count": 11,
   "id": "f2723cd7",
   "metadata": {
    "execution": {
     "iopub.execute_input": "2023-09-05T12:23:34.870023Z",
     "iopub.status.busy": "2023-09-05T12:23:34.869378Z",
     "iopub.status.idle": "2023-09-05T13:12:17.767714Z",
     "shell.execute_reply": "2023-09-05T13:12:17.766536Z"
    },
    "papermill": {
     "duration": 2922.909327,
     "end_time": "2023-09-05T13:12:17.770129",
     "exception": false,
     "start_time": "2023-09-05T12:23:34.860802",
     "status": "completed"
    },
    "tags": []
   },
   "outputs": [
    {
     "name": "stderr",
     "output_type": "stream",
     "text": [
      "Calculating dist. b/w chassis: 100%|██████████| 23579/23579 [48:42<00:00,  8.07it/s]\n"
     ]
    }
   ],
   "source": [
    "for row in tqdm(range(0, del_cha.shape[0]), desc='Calculating dist. b/w chassis'):\n",
    "    dis=[]\n",
    "    for div in range(0, workshop.shape[0]):\n",
    "        d = haversine(del_cha[['Lat', 'Long']].iloc[row],\n",
    "                      workshop[['Lattitude', 'Longitude']].iloc[div],\n",
    "                      unit ='km')\n",
    "        dis.append(d)\n",
    "    del_cha.loc[row, 'Min Distance'] = min(dis)"
   ]
  },
  {
   "cell_type": "code",
   "execution_count": null,
   "id": "e0a559cf",
   "metadata": {
    "papermill": {
     "duration": 2.139292,
     "end_time": "2023-09-05T13:12:22.152308",
     "exception": false,
     "start_time": "2023-09-05T13:12:20.013016",
     "status": "completed"
    },
    "tags": []
   },
   "outputs": [],
   "source": []
  }
 ],
 "kernelspec": {
  "display_name": "Python 3",
  "language": "python",
  "name": "python3"
 },
 "language_info": {
  "codemirror_mode": {
   "name": "ipython",
   "version": 3
  },
  "file_extension": ".py",
  "mimetype": "text/x-python",
  "name": "python",
  "nbconvert_exporter": "python",
  "pygments_lexer": "ipython3",
  "version": "3.6.4"
 },
 "metadata": {
  "kernelspec": {
   "display_name": "Python 3",
   "language": "python",
   "name": "python3"
  },
  "language_info": {
   "codemirror_mode": {
    "name": "ipython",
    "version": 3
   },
   "file_extension": ".py",
   "mimetype": "text/x-python",
   "name": "python",
   "nbconvert_exporter": "python",
   "pygments_lexer": "ipython3",
   "version": "3.10.12"
  },
  "papermill": {
   "default_parameters": {},
   "duration": 2939.953167,
   "end_time": "2023-09-05T13:12:25.438502",
   "environment_variables": {},
   "exception": null,
   "input_path": "__notebook__.ipynb",
   "output_path": "__notebook__.ipynb",
   "parameters": {},
   "start_time": "2023-09-05T12:23:25.485335",
   "version": "2.4.0"
  }
 },
 "nbformat": 4,
 "nbformat_minor": 5
}
